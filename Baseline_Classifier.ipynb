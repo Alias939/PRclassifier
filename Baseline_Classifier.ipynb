{
 "cells": [
  {
   "cell_type": "code",
   "execution_count": 3,
   "metadata": {},
   "outputs": [],
   "source": [
    "import pandas as pd\n",
    "import numpy as np\n",
    "import torch\n",
    "\n",
    "import torch.nn as nn\n",
    "from torch import optim\n",
    "import torch.nn.functional as F\n",
    "import tensorflow as tf\n",
    "\n",
    "# define path to glove and snli files\n",
    "path = \"../Project/\"\n",
    "device = torch.device(\"cuda\" if torch.cuda.is_available() else \"cpu\")"
   ]
  },
  {
   "cell_type": "code",
   "execution_count": 4,
   "metadata": {},
   "outputs": [
    {
     "name": "stderr",
     "output_type": "stream",
     "text": [
      "C:\\Users\\Danie\\Anaconda3\\envs\\gameAI\\lib\\site-packages\\ipykernel_launcher.py:1: ParserWarning: Falling back to the 'python' engine because the 'c' engine does not support regex separators (separators > 1 char and different from '\\s+' are interpreted as regex); you can avoid this warning by specifying engine='python'.\n",
      "  \"\"\"Entry point for launching an IPython kernel.\n",
      "C:\\Users\\Danie\\Anaconda3\\envs\\gameAI\\lib\\site-packages\\ipykernel_launcher.py:2: ParserWarning: Falling back to the 'python' engine because the 'c' engine does not support regex separators (separators > 1 char and different from '\\s+' are interpreted as regex); you can avoid this warning by specifying engine='python'.\n",
      "  \n",
      "C:\\Users\\Danie\\Anaconda3\\envs\\gameAI\\lib\\site-packages\\ipykernel_launcher.py:3: ParserWarning: Falling back to the 'python' engine because the 'c' engine does not support regex separators (separators > 1 char and different from '\\s+' are interpreted as regex); you can avoid this warning by specifying engine='python'.\n",
      "  This is separate from the ipykernel package so we can avoid doing imports until\n"
     ]
    }
   ],
   "source": [
    "snli_train = pd.read_csv(path+'snli_1.0/snli_1.0_train.txt', sep=\"\\\\t\")\n",
    "snli_test = pd.read_csv(path+'snli_1.0/snli_1.0_test.txt', sep=\"\\\\t\")\n",
    "snli_dev = pd.read_csv(path+'snli_1.0/snli_1.0_dev.txt', sep=\"\\\\t\")"
   ]
  },
  {
   "cell_type": "code",
   "execution_count": 5,
   "metadata": {},
   "outputs": [
    {
     "name": "stdout",
     "output_type": "stream",
     "text": [
      "A person on a horse jumps over a broken down airplane. A person is training his horse for a competition. neutral\n",
      "A person on a horse jumps over a broken down airplane. A person is at a diner, ordering an omelette. contradiction\n",
      "A person on a horse jumps over a broken down airplane. A person is outdoors, on a horse. entailment\n"
     ]
    }
   ],
   "source": [
    "print(snli_train['sentence1'][0],snli_train['sentence2'][0], snli_train['gold_label'][0])\n",
    "print(snli_train['sentence1'][1],snli_train['sentence2'][1], snli_train['gold_label'][1])\n",
    "print(snli_train['sentence1'][2],snli_train['sentence2'][2], snli_train['gold_label'][2])"
   ]
  },
  {
   "cell_type": "code",
   "execution_count": 6,
   "metadata": {},
   "outputs": [],
   "source": [
    "# Filter and rename the important columns\n",
    "train_df = snli_train.filter(['sentence1','sentence2','gold_label'], axis=1)\n",
    "test_df = snli_test.filter(['sentence1','sentence2','gold_label'], axis=1)\n",
    "train_df = train_df.rename(columns={\"sentence1\": \"premise\", \"sentence2\": \"hypothesis\"})\n",
    "test_df = test_df.rename(columns={\"sentence1\": \"premise\", \"sentence2\": \"hypothesis\"})"
   ]
  },
  {
   "cell_type": "code",
   "execution_count": 7,
   "metadata": {},
   "outputs": [],
   "source": [
    "# exclude sentences which could not be categorised\n",
    "train_df = train_df[train_df['gold_label'] != \"-\"]\n",
    "test_df = test_df[test_df['gold_label'] != \"-\"]"
   ]
  },
  {
   "cell_type": "code",
   "execution_count": 8,
   "metadata": {},
   "outputs": [
    {
     "data": {
      "text/plain": [
       "entailment       3368\n",
       "contradiction    3237\n",
       "neutral          3219\n",
       "Name: gold_label, dtype: int64"
      ]
     },
     "execution_count": 8,
     "metadata": {},
     "output_type": "execute_result"
    }
   ],
   "source": [
    "test_df['gold_label'].value_counts()"
   ]
  },
  {
   "cell_type": "markdown",
   "metadata": {},
   "source": [
    "# Glove"
   ]
  },
  {
   "cell_type": "code",
   "execution_count": 9,
   "metadata": {},
   "outputs": [],
   "source": [
    "import numpy as np\n",
    "from scipy import spatial\n",
    "import matplotlib.pyplot as plt\n",
    "from sklearn.manifold import TSNE"
   ]
  },
  {
   "cell_type": "code",
   "execution_count": 10,
   "metadata": {},
   "outputs": [],
   "source": [
    "embeddings_dict = {}\n",
    "with open(path+\"glove.6B.300d.txt\", 'r', encoding=\"utf-8\") as f:\n",
    "    for line in f:\n",
    "        values = line.split()\n",
    "        word = values[0]\n",
    "        vector = np.asarray(values[1:], \"float32\")\n",
    "        embeddings_dict[word] = vector"
   ]
  },
  {
   "cell_type": "code",
   "execution_count": 11,
   "metadata": {},
   "outputs": [
    {
     "data": {
      "text/plain": [
       "['queen', 'monarch', 'prince', 'kingdom']"
      ]
     },
     "execution_count": 11,
     "metadata": {},
     "output_type": "execute_result"
    }
   ],
   "source": [
    "def find_closest_embeddings(embedding):\n",
    "    return sorted(embeddings_dict.keys(), key=lambda word: spatial.distance.euclidean(embeddings_dict[word], embedding))\n",
    "find_closest_embeddings(embeddings_dict[\"king\"])[1:5]"
   ]
  },
  {
   "cell_type": "markdown",
   "metadata": {},
   "source": [
    "# Sentence embeddings"
   ]
  },
  {
   "cell_type": "code",
   "execution_count": 12,
   "metadata": {},
   "outputs": [],
   "source": [
    "# Following guide https://medium.com/@sarin.samarth07/glove-word-embeddings-with-keras-python-code-52131b0c8b1d\n",
    "import tensorflow as tf\n",
    "from keras.preprocessing.text import Tokenizer\n",
    "from keras.preprocessing.sequence import pad_sequences\n",
    "from tensorflow.python.keras.layers import Dense, Embedding, Input, Add, Dot, Reshape, Flatten\n",
    "from tensorflow.keras.optimizers import Adam\n",
    "from tensorflow.python.keras.preprocessing.sequence import skipgrams\n",
    "from tensorflow.python.keras.models import Model, load_model"
   ]
  },
  {
   "cell_type": "code",
   "execution_count": 13,
   "metadata": {},
   "outputs": [],
   "source": [
    "def get_embedding_matrix(series):\n",
    "    series = series.astype(str)\n",
    "\n",
    "    token = Tokenizer()\n",
    "    token.fit_on_texts(series)\n",
    "    seq = token.texts_to_sequences(series)\n",
    "\n",
    "    print(series[0])\n",
    "    print(seq[0])\n",
    "\n",
    "    print(\"the max sentence length is:\",max([len(x) for x in seq]))\n",
    "    pad_seq = pad_sequences(seq,maxlen=100)\n",
    "    vocab_size = len(token.word_index)+1\n",
    "    print(vocab_size)\n",
    "\n",
    "    embedding_matrix = np.zeros((vocab_size,300))\n",
    "    for word,i in token.word_index.items():\n",
    "        embedding_value = embeddings_dict.get(word) #using glove embedding for each word\n",
    "        if embedding_value is not None:\n",
    "            embedding_matrix[i] = embedding_value\n",
    "\n",
    "    # Sum embeddings of words together to get embedding of sentence (baseline sentence embedding model)\n",
    "    print(pad_seq[4])\n",
    "    return pad_seq, embedding_matrix, vocab_size\n",
    "    "
   ]
  },
  {
   "cell_type": "code",
   "execution_count": 14,
   "metadata": {},
   "outputs": [
    {
     "name": "stdout",
     "output_type": "stream",
     "text": [
      "A person on a horse jumps over a broken down airplane.\n",
      "[1, 56, 5, 1, 197, 191, 68, 1, 1762, 36, 877]\n",
      "the max sentence length is: 78\n",
      "18490\n",
      "[  0   0   0   0   0   0   0   0   0   0   0   0   0   0   0   0   0   0\n",
      "   0   0   0   0   0   0   0   0   0   0   0   0   0   0   0   0   0   0\n",
      "   0   0   0   0   0   0   0   0   0   0   0   0   0   0   0   0   0   0\n",
      "   0   0   0   0   0   0   0   0   0   0   0   0   0   0   0   0   0   0\n",
      "   0   0   0   0   0   0   0   0   0   0   0   0   0   0   0   0   0   0\n",
      "   0   0   0   0  59 132   4 666  16  94]\n"
     ]
    }
   ],
   "source": [
    "pad_seq_prem, embedding_matrix_prem, vocab_size_prem = get_embedding_matrix(train_df['premise'])"
   ]
  },
  {
   "cell_type": "code",
   "execution_count": 15,
   "metadata": {},
   "outputs": [
    {
     "name": "stdout",
     "output_type": "stream",
     "text": [
      "A person is training his horse for a competition.\n",
      "[1, 27, 3, 821, 16, 162, 20, 1, 275]\n",
      "the max sentence length is: 56\n",
      "30904\n",
      "[  0   0   0   0   0   0   0   0   0   0   0   0   0   0   0   0   0   0\n",
      "   0   0   0   0   0   0   0   0   0   0   0   0   0   0   0   0   0   0\n",
      "   0   0   0   0   0   0   0   0   0   0   0   0   0   0   0   0   0   0\n",
      "   0   0   0   0   0   0   0   0   0   0   0   0   0   0   0   0   0   0\n",
      "   0   0   0   0   0   0   0   0   0   0   0   0   0   0   0   0   0   0\n",
      "   0   0   0   0   0   0  22   4  40 705]\n"
     ]
    }
   ],
   "source": [
    "pad_seq_hyp, embedding_matrix_hyp, vocab_size_hyp = get_embedding_matrix(train_df['hypothesis'])"
   ]
  },
  {
   "cell_type": "markdown",
   "metadata": {},
   "source": [
    "# Baseline\n",
    "### Sum embeddings of all words in a sentence together to get the complete embedding"
   ]
  },
  {
   "cell_type": "code",
   "execution_count": 16,
   "metadata": {},
   "outputs": [],
   "source": [
    "def baseline_sum_sentence_embeddings(pad_seq, embedding_matrix):\n",
    "    # Sum embeddings of words together to get embedding of sentence (baseline sentence embedding model)\n",
    "    sentence_embs = []\n",
    "    for i in pad_seq:\n",
    "        sentence_embs.append(sum([embedding_matrix[x] for x in i]))\n",
    "    sentence_embs = np.array(sentence_embs)\n",
    "    return sentence_embs"
   ]
  },
  {
   "cell_type": "code",
   "execution_count": 17,
   "metadata": {},
   "outputs": [],
   "source": [
    "sentence_embs = baseline_sum_sentence_embeddings(pad_seq_prem, embedding_matrix_prem)"
   ]
  },
  {
   "cell_type": "code",
   "execution_count": 18,
   "metadata": {},
   "outputs": [],
   "source": [
    "sentence_embs_hyp = baseline_sum_sentence_embeddings(pad_seq_hyp, embedding_matrix_hyp)"
   ]
  },
  {
   "cell_type": "markdown",
   "metadata": {},
   "source": [
    "# Model"
   ]
  },
  {
   "cell_type": "code",
   "execution_count": 19,
   "metadata": {},
   "outputs": [
    {
     "name": "stdout",
     "output_type": "stream",
     "text": [
      "Model: \"model\"\n",
      "__________________________________________________________________________________________________\n",
      "Layer (type)                    Output Shape         Param #     Connected to                     \n",
      "==================================================================================================\n",
      "input_1 (InputLayer)            [(None, 300)]        0                                            \n",
      "__________________________________________________________________________________________________\n",
      "input_2 (InputLayer)            [(None, 300)]        0                                            \n",
      "__________________________________________________________________________________________________\n",
      "dense (Dense)                   (None, 100)          30100       input_1[0][0]                    \n",
      "__________________________________________________________________________________________________\n",
      "dense_1 (Dense)                 (None, 100)          30100       input_2[0][0]                    \n",
      "__________________________________________________________________________________________________\n",
      "concatenate (Concatenate)       (None, 200)          0           dense[0][0]                      \n",
      "                                                                 dense_1[0][0]                    \n",
      "__________________________________________________________________________________________________\n",
      "dense_2 (Dense)                 (None, 300)          60300       concatenate[0][0]                \n",
      "__________________________________________________________________________________________________\n",
      "dense_3 (Dense)                 (None, 300)          90300       dense_2[0][0]                    \n",
      "__________________________________________________________________________________________________\n",
      "dense_4 (Dense)                 (None, 300)          90300       dense_3[0][0]                    \n",
      "__________________________________________________________________________________________________\n",
      "flatten (Flatten)               (None, 300)          0           dense_4[0][0]                    \n",
      "__________________________________________________________________________________________________\n",
      "dense_5 (Dense)                 (None, 3)            903         flatten[0][0]                    \n",
      "==================================================================================================\n",
      "Total params: 302,003\n",
      "Trainable params: 302,003\n",
      "Non-trainable params: 0\n",
      "__________________________________________________________________________________________________\n"
     ]
    }
   ],
   "source": [
    "import keras\n",
    "from keras import datasets, layers, models\n",
    "\n",
    "\n",
    "#model\n",
    "# shape represents 300d glove embedding of sentence \n",
    "shape=(300)\n",
    "\n",
    "premise= layers.Input(shape=shape)\n",
    "hypothesis= layers.Input(shape=shape)\n",
    "\n",
    "xp=layers.Dense(100,activation='tanh')(premise)\n",
    "xh=layers.Dense(100,activation='tanh')(hypothesis)\n",
    "\n",
    "conc=layers.concatenate([xp,xh])\n",
    "\n",
    "y= layers.Dense(300,activation='tanh')(conc)\n",
    "y= layers.Dense(300,activation='tanh')(y)\n",
    "y= layers.Dense(300,activation='tanh')(y)\n",
    "\n",
    "output=layers.Flatten()(y)\n",
    "output = layers.Dense(3, activation='softmax')(output)\n",
    "\n",
    "model = keras.models.Model([premise,hypothesis], output)\n",
    "model.summary()"
   ]
  },
  {
   "cell_type": "markdown",
   "metadata": {},
   "source": [
    "# Train"
   ]
  },
  {
   "cell_type": "code",
   "execution_count": 20,
   "metadata": {},
   "outputs": [],
   "source": [
    "model.compile(optimizer='Adadelta',loss='categorical_crossentropy',metrics = ['accuracy'])"
   ]
  },
  {
   "cell_type": "code",
   "execution_count": 21,
   "metadata": {
    "scrolled": true
   },
   "outputs": [],
   "source": [
    "from sklearn.preprocessing import OneHotEncoder\n",
    "def encode_labels(gold_label):\n",
    "    enc = OneHotEncoder(handle_unknown='ignore')\n",
    "    enc.fit(np.array(gold_label).reshape(-1, 1))\n",
    "\n",
    "    print(enc.categories_)\n",
    "\n",
    "    enc_gold_label = enc.transform(np.array(gold_label).reshape(-1, 1)).toarray()\n",
    "\n",
    "    print(enc_gold_label[2])\n",
    "    return enc_gold_label"
   ]
  },
  {
   "cell_type": "code",
   "execution_count": 22,
   "metadata": {},
   "outputs": [
    {
     "name": "stdout",
     "output_type": "stream",
     "text": [
      "[array(['contradiction', 'entailment', 'neutral'], dtype=object)]\n",
      "[0. 1. 0.]\n"
     ]
    }
   ],
   "source": [
    "enc_gold_label = encode_labels(train_df['gold_label'])"
   ]
  },
  {
   "cell_type": "code",
   "execution_count": 23,
   "metadata": {},
   "outputs": [
    {
     "name": "stdout",
     "output_type": "stream",
     "text": [
      "Epoch 1/40\n",
      "938/938 [==============================] - 11s 11ms/step - loss: 1.1345 - accuracy: 0.3496 - val_loss: 1.0900 - val_accuracy: 0.3902\n",
      "Epoch 2/40\n",
      "938/938 [==============================] - 9s 10ms/step - loss: 1.0837 - accuracy: 0.4028 - val_loss: 1.0656 - val_accuracy: 0.4310\n",
      "Epoch 3/40\n",
      "938/938 [==============================] - 10s 11ms/step - loss: 1.0620 - accuracy: 0.4379 - val_loss: 1.0496 - val_accuracy: 0.4561\n",
      "Epoch 4/40\n",
      "938/938 [==============================] - 11s 12ms/step - loss: 1.0471 - accuracy: 0.4585 - val_loss: 1.0383 - val_accuracy: 0.4708\n",
      "Epoch 5/40\n",
      "938/938 [==============================] - 9s 9ms/step - loss: 1.0340 - accuracy: 0.4740 - val_loss: 1.0292 - val_accuracy: 0.4804\n",
      "Epoch 6/40\n",
      "938/938 [==============================] - 9s 9ms/step - loss: 1.0274 - accuracy: 0.4802 - val_loss: 1.0221 - val_accuracy: 0.4884\n",
      "Epoch 7/40\n",
      "938/938 [==============================] - 9s 10ms/step - loss: 1.0200 - accuracy: 0.4872 - val_loss: 1.0162 - val_accuracy: 0.4934\n",
      "Epoch 8/40\n",
      "938/938 [==============================] - 11s 12ms/step - loss: 1.0158 - accuracy: 0.4916 - val_loss: 1.0112 - val_accuracy: 0.4986\n",
      "Epoch 9/40\n",
      "938/938 [==============================] - 9s 10ms/step - loss: 1.0095 - accuracy: 0.4976 - val_loss: 1.0067 - val_accuracy: 0.5025\n",
      "Epoch 10/40\n",
      "938/938 [==============================] - 9s 9ms/step - loss: 1.0048 - accuracy: 0.5020 - val_loss: 1.0027 - val_accuracy: 0.5064\n",
      "Epoch 11/40\n",
      "938/938 [==============================] - 9s 9ms/step - loss: 1.0024 - accuracy: 0.5033 - val_loss: 0.9991 - val_accuracy: 0.5092\n",
      "Epoch 12/40\n",
      "938/938 [==============================] - 9s 10ms/step - loss: 0.9979 - accuracy: 0.5063 - val_loss: 0.9959 - val_accuracy: 0.5118\n",
      "Epoch 13/40\n",
      "938/938 [==============================] - 9s 10ms/step - loss: 0.9946 - accuracy: 0.5100 - val_loss: 0.9928 - val_accuracy: 0.5147\n",
      "Epoch 14/40\n",
      "938/938 [==============================] - 10s 11ms/step - loss: 0.9916 - accuracy: 0.5124 - val_loss: 0.9901 - val_accuracy: 0.5170\n",
      "Epoch 15/40\n",
      "938/938 [==============================] - 9s 9ms/step - loss: 0.9901 - accuracy: 0.5131 - val_loss: 0.9875 - val_accuracy: 0.5194\n",
      "Epoch 16/40\n",
      "938/938 [==============================] - 9s 9ms/step - loss: 0.9856 - accuracy: 0.5181 - val_loss: 0.9851 - val_accuracy: 0.5213\n",
      "Epoch 17/40\n",
      "938/938 [==============================] - 9s 9ms/step - loss: 0.9832 - accuracy: 0.5196 - val_loss: 0.9827 - val_accuracy: 0.5227\n",
      "Epoch 18/40\n",
      "938/938 [==============================] - 9s 9ms/step - loss: 0.9800 - accuracy: 0.5222 - val_loss: 0.9806 - val_accuracy: 0.5239\n",
      "Epoch 19/40\n",
      "938/938 [==============================] - 9s 9ms/step - loss: 0.9790 - accuracy: 0.5235 - val_loss: 0.9785 - val_accuracy: 0.5262\n",
      "Epoch 20/40\n",
      "938/938 [==============================] - 9s 9ms/step - loss: 0.9755 - accuracy: 0.5265 - val_loss: 0.9765 - val_accuracy: 0.5274\n",
      "Epoch 21/40\n",
      "938/938 [==============================] - 9s 9ms/step - loss: 0.9756 - accuracy: 0.5250 - val_loss: 0.9747 - val_accuracy: 0.5281\n",
      "Epoch 22/40\n",
      "938/938 [==============================] - 9s 10ms/step - loss: 0.9732 - accuracy: 0.5277 - val_loss: 0.9729 - val_accuracy: 0.5288\n",
      "Epoch 23/40\n",
      "938/938 [==============================] - 10s 11ms/step - loss: 0.9711 - accuracy: 0.5293 - val_loss: 0.9713 - val_accuracy: 0.5297\n",
      "Epoch 24/40\n",
      "938/938 [==============================] - 10s 11ms/step - loss: 0.9676 - accuracy: 0.5319 - val_loss: 0.9695 - val_accuracy: 0.5311\n",
      "Epoch 25/40\n",
      "938/938 [==============================] - 10s 11ms/step - loss: 0.9677 - accuracy: 0.5322 - val_loss: 0.9679 - val_accuracy: 0.5323\n",
      "Epoch 26/40\n",
      "938/938 [==============================] - 10s 11ms/step - loss: 0.9662 - accuracy: 0.5333 - val_loss: 0.9664 - val_accuracy: 0.5333\n",
      "Epoch 27/40\n",
      "938/938 [==============================] - 10s 10ms/step - loss: 0.9623 - accuracy: 0.5363 - val_loss: 0.9650 - val_accuracy: 0.5342\n",
      "Epoch 28/40\n",
      "938/938 [==============================] - 9s 9ms/step - loss: 0.9613 - accuracy: 0.5365 - val_loss: 0.9636 - val_accuracy: 0.5349\n",
      "Epoch 29/40\n",
      "938/938 [==============================] - 9s 9ms/step - loss: 0.9627 - accuracy: 0.5348 - val_loss: 0.9622 - val_accuracy: 0.5367\n",
      "Epoch 30/40\n",
      "938/938 [==============================] - 9s 9ms/step - loss: 0.9607 - accuracy: 0.5367 - val_loss: 0.9610 - val_accuracy: 0.5365\n",
      "Epoch 31/40\n",
      "938/938 [==============================] - 9s 9ms/step - loss: 0.9598 - accuracy: 0.5384 - val_loss: 0.9596 - val_accuracy: 0.5380\n",
      "Epoch 32/40\n",
      "938/938 [==============================] - 9s 9ms/step - loss: 0.9569 - accuracy: 0.5395 - val_loss: 0.9584 - val_accuracy: 0.5383\n",
      "Epoch 33/40\n",
      "938/938 [==============================] - 9s 9ms/step - loss: 0.9549 - accuracy: 0.5413 - val_loss: 0.9572 - val_accuracy: 0.5393\n",
      "Epoch 34/40\n",
      "938/938 [==============================] - 9s 9ms/step - loss: 0.9542 - accuracy: 0.5411 - val_loss: 0.9560 - val_accuracy: 0.5411\n",
      "Epoch 35/40\n",
      "938/938 [==============================] - 9s 9ms/step - loss: 0.9527 - accuracy: 0.5424 - val_loss: 0.9550 - val_accuracy: 0.5419\n",
      "Epoch 36/40\n",
      "938/938 [==============================] - 8s 9ms/step - loss: 0.9522 - accuracy: 0.5432 - val_loss: 0.9539 - val_accuracy: 0.5427\n",
      "Epoch 37/40\n",
      "938/938 [==============================] - 8s 9ms/step - loss: 0.9502 - accuracy: 0.5433 - val_loss: 0.9528 - val_accuracy: 0.5433\n",
      "Epoch 38/40\n",
      "938/938 [==============================] - 8s 9ms/step - loss: 0.9501 - accuracy: 0.5444 - val_loss: 0.9517 - val_accuracy: 0.5442\n",
      "Epoch 39/40\n",
      "938/938 [==============================] - 9s 9ms/step - loss: 0.9464 - accuracy: 0.5476 - val_loss: 0.9508 - val_accuracy: 0.5440\n",
      "Epoch 40/40\n",
      "938/938 [==============================] - 9s 9ms/step - loss: 0.9475 - accuracy: 0.5472 - val_loss: 0.9497 - val_accuracy: 0.5451\n"
     ]
    }
   ],
   "source": [
    "history = model.fit([np.array(sentence_embs[0:300000]), np.array(sentence_embs_hyp[0:300000])],enc_gold_label[0:300000],epochs = 40,batch_size=256,validation_split=0.2, verbose=1)"
   ]
  },
  {
   "cell_type": "code",
   "execution_count": 24,
   "metadata": {},
   "outputs": [
    {
     "name": "stdout",
     "output_type": "stream",
     "text": [
      "INFO:tensorflow:Assets written to: baseline_300000_40epochs\\assets\n"
     ]
    }
   ],
   "source": [
    "model.save('baseline_300000_40epochs')"
   ]
  },
  {
   "cell_type": "markdown",
   "metadata": {},
   "source": [
    "# Test"
   ]
  },
  {
   "cell_type": "code",
   "execution_count": 25,
   "metadata": {},
   "outputs": [
    {
     "name": "stdout",
     "output_type": "stream",
     "text": [
      "This church choir sings to the masses as they sing joyous songs from the book at a church.\n",
      "[281, 668, 779, 600, 12, 3, 2084, 42, 184, 1455, 2085, 2086, 64, 3, 272, 17, 1, 668]\n",
      "the max sentence length is: 54\n",
      "4093\n",
      "[   0    0    0    0    0    0    0    0    0    0    0    0    0    0\n",
      "    0    0    0    0    0    0    0    0    0    0    0    0    0    0\n",
      "    0    0    0    0    0    0    0    0    0    0    0    0    0    0\n",
      "    0    0    0    0    0    0    0    0    0    0    0    0    0    0\n",
      "    0    0    0    0    0    0    0    0    0    0    0    0    0    0\n",
      "    0    0    0    0    0    0    0    0    0    0    0    0    0    0\n",
      "    0    0    0    1   10    9    1   43 1400   22   16    4    1  218\n",
      "  282 2087]\n",
      "The church has cracks in the ceiling.\n",
      "[2, 655, 36, 2754, 6, 2, 2755]\n",
      "the max sentence length is: 29\n",
      "5166\n",
      "[  0   0   0   0   0   0   0   0   0   0   0   0   0   0   0   0   0   0\n",
      "   0   0   0   0   0   0   0   0   0   0   0   0   0   0   0   0   0   0\n",
      "   0   0   0   0   0   0   0   0   0   0   0   0   0   0   0   0   0   0\n",
      "   0   0   0   0   0   0   0   0   0   0   0   0   0   0   0   0   0   0\n",
      "   0   0   0   0   0   0   0   0   0   0   0   0   0   0   0   0   0   0\n",
      "   0   0   0   0   0   2   8   3 338 258]\n",
      "[array(['contradiction', 'entailment', 'neutral'], dtype=object)]\n",
      "[1. 0. 0.]\n"
     ]
    }
   ],
   "source": [
    "pad_seq_prem_test, embedding_matrix_prem_test, vocab_size_prem_test = get_embedding_matrix(test_df['premise'])\n",
    "pad_seq_hyp_test, embedding_matrix_hyp_test, vocab_size_hyp_test = get_embedding_matrix(test_df['hypothesis'])\n",
    "\n",
    "sentence_embs_prem_test = baseline_sum_sentence_embeddings(pad_seq_prem_test, embedding_matrix_prem_test)\n",
    "sentence_embs_hyp_test = baseline_sum_sentence_embeddings(pad_seq_hyp_test, embedding_matrix_hyp_test)\n",
    "\n",
    "enc_gold_label_test = encode_labels(test_df['gold_label'])"
   ]
  },
  {
   "cell_type": "code",
   "execution_count": 26,
   "metadata": {},
   "outputs": [
    {
     "name": "stdout",
     "output_type": "stream",
     "text": [
      "Evaluate on test data\n",
      "77/77 [==============================] - ETA: 0s - loss: 0.9396 - accuracy: 0.55 - 0s 3ms/step - loss: 0.9368 - accuracy: 0.5545\n",
      "test loss, test acc: [0.9368278384208679, 0.5544584393501282]\n"
     ]
    }
   ],
   "source": [
    "# Evaluate the model on the test data using `evaluate`\n",
    "print(\"Evaluate on test data\")\n",
    "results = model.evaluate([sentence_embs_prem_test, sentence_embs_hyp_test], enc_gold_label_test, batch_size=128)\n",
    "print(\"test loss, test acc:\", results)"
   ]
  },
  {
   "cell_type": "code",
   "execution_count": 27,
   "metadata": {},
   "outputs": [
    {
     "name": "stdout",
     "output_type": "stream",
     "text": [
      "Generate predictions for 3 samples\n",
      "predictions shape: (9824, 3)\n"
     ]
    }
   ],
   "source": [
    "# Generate predictions (probabilities -- the output of the last layer)\n",
    "# on new data using `predict`\n",
    "print(\"Generate predictions for 3 samples\")\n",
    "predictions = model.predict([sentence_embs_prem_test, sentence_embs_hyp_test])\n",
    "print(\"predictions shape:\", predictions.shape)"
   ]
  },
  {
   "cell_type": "code",
   "execution_count": 28,
   "metadata": {},
   "outputs": [],
   "source": [
    "pd.DataFrame.from_dict(history.history).to_csv('baseline_history_300000_40epochs.csv',index=False)"
   ]
  },
  {
   "cell_type": "code",
   "execution_count": 29,
   "metadata": {},
   "outputs": [],
   "source": [
    "test_results_baseline = pd.DataFrame(predictions)\n",
    "test_results_baseline.to_csv(\"Baseline_test_results_300000_40epochs.csv\")"
   ]
  },
  {
   "cell_type": "code",
   "execution_count": 30,
   "metadata": {},
   "outputs": [
    {
     "data": {
      "text/plain": [
       "<matplotlib.legend.Legend at 0x2aca4e18988>"
      ]
     },
     "execution_count": 30,
     "metadata": {},
     "output_type": "execute_result"
    },
    {
     "data": {
      "image/png": "[encoded data removed]",
      "text/plain": [
       "<Figure size 432x288 with 1 Axes>"
      ]
     },
     "metadata": {
      "needs_background": "light"
     },
     "output_type": "display_data"
    }
   ],
   "source": [
    "plt.plot(history.history['accuracy'])\n",
    "plt.plot(history.history['val_accuracy'])\n",
    "plt.title('model accuracy')\n",
    "plt.ylabel('accuracy')\n",
    "plt.xlabel('epoch')\n",
    "plt.legend(['train', 'val'], loc='upper left')\n",
    "# plt.show()"
   ]
  },
  {
   "cell_type": "code",
   "execution_count": null,
   "metadata": {},
   "outputs": [],
   "source": []
  }
 ],
 "metadata": {
  "kernelspec": {
   "display_name": "Python 3",
   "language": "python",
   "name": "python3"
  },
  "language_info": {
   "codemirror_mode": {
    "name": "ipython",
    "version": 3
   },
   "file_extension": ".py",
   "mimetype": "text/x-python",
   "name": "python",
   "nbconvert_exporter": "python",
   "pygments_lexer": "ipython3",
   "version": "3.7.9"
  }
 },
 "nbformat": 4,
 "nbformat_minor": 4
}
