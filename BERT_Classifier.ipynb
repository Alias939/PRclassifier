{
 "cells": [
  {
   "cell_type": "code",
   "execution_count": 1,
   "metadata": {
    "_cell_guid": "b1076dfc-b9ad-4769-8c92-a6c4dae69d19",
    "_uuid": "8f2839f25d086af736a60e9eeb907d3b93b6e0e5",
    "execution": {
     "iopub.execute_input": "2021-01-27T23:07:01.589882Z",
     "iopub.status.busy": "2021-01-27T23:07:01.589201Z",
     "iopub.status.idle": "2021-01-27T23:07:01.612220Z",
     "shell.execute_reply": "2021-01-27T23:07:01.611614Z"
    },
    "papermill": {
     "duration": 0.044266,
     "end_time": "2021-01-27T23:07:01.612336",
     "exception": false,
     "start_time": "2021-01-27T23:07:01.568070",
     "status": "completed"
    },
    "tags": []
   },
   "outputs": [
    {
     "name": "stdout",
     "output_type": "stream",
     "text": [
      "/kaggle/input/stanford-natural-language-inference-corpus/README.txt\n",
      "/kaggle/input/stanford-natural-language-inference-corpus/snli_1.0_test.csv\n",
      "/kaggle/input/stanford-natural-language-inference-corpus/snli_1.0_train.csv\n",
      "/kaggle/input/stanford-natural-language-inference-corpus/snli_1.0_dev.csv\n"
     ]
    }
   ],
   "source": [
    "import numpy as np # linear algebra\n",
    "import pandas as pd # data processing, CSV file I/O (e.g. pd.read_csv)\n",
    "\n",
    "import os\n",
    "for dirname, _, filenames in os.walk('/kaggle/input'):\n",
    "    for filename in filenames:\n",
    "        print(os.path.join(dirname, filename))"
   ]
  },
  {
   "cell_type": "code",
   "execution_count": 2,
   "metadata": {
    "_cell_guid": "79c7e3d0-c299-4dcb-8224-4455121ee9b0",
    "_uuid": "d629ff2d2480ee46fbb7e2d37f6b5fab8052498a",
    "execution": {
     "iopub.execute_input": "2021-01-27T23:07:01.651664Z",
     "iopub.status.busy": "2021-01-27T23:07:01.651067Z",
     "iopub.status.idle": "2021-01-27T23:07:09.376328Z",
     "shell.execute_reply": "2021-01-27T23:07:09.375443Z"
    },
    "papermill": {
     "duration": 7.749912,
     "end_time": "2021-01-27T23:07:09.376448",
     "exception": false,
     "start_time": "2021-01-27T23:07:01.626536",
     "status": "completed"
    },
    "tags": []
   },
   "outputs": [],
   "source": [
    "snli_train = pd.read_csv('/kaggle/input/stanford-natural-language-inference-corpus/snli_1.0_train.csv',nrows=300000)\n",
    "snli_test = pd.read_csv('/kaggle/input/stanford-natural-language-inference-corpus/snli_1.0_test.csv')"
   ]
  },
  {
   "cell_type": "code",
   "execution_count": 3,
   "metadata": {
    "execution": {
     "iopub.execute_input": "2021-01-27T23:07:09.417996Z",
     "iopub.status.busy": "2021-01-27T23:07:09.417118Z",
     "iopub.status.idle": "2021-01-27T23:07:09.422381Z",
     "shell.execute_reply": "2021-01-27T23:07:09.421869Z"
    },
    "papermill": {
     "duration": 0.032241,
     "end_time": "2021-01-27T23:07:09.422484",
     "exception": false,
     "start_time": "2021-01-27T23:07:09.390243",
     "status": "completed"
    },
    "tags": []
   },
   "outputs": [
    {
     "name": "stdout",
     "output_type": "stream",
     "text": [
      "A person on a horse jumps over a broken down airplane. A person is training his horse for a competition. neutral\n",
      "A person on a horse jumps over a broken down airplane. A person is at a diner, ordering an omelette. contradiction\n",
      "A person on a horse jumps over a broken down airplane. A person is outdoors, on a horse. entailment\n"
     ]
    }
   ],
   "source": [
    "print(snli_train['sentence1'][0],snli_train['sentence2'][0], snli_train['gold_label'][0])\n",
    "print(snli_train['sentence1'][1],snli_train['sentence2'][1], snli_train['gold_label'][1])\n",
    "print(snli_train['sentence1'][2],snli_train['sentence2'][2], snli_train['gold_label'][2])"
   ]
  },
  {
   "cell_type": "code",
   "execution_count": 4,
   "metadata": {
    "execution": {
     "iopub.execute_input": "2021-01-27T23:07:09.458929Z",
     "iopub.status.busy": "2021-01-27T23:07:09.458192Z",
     "iopub.status.idle": "2021-01-27T23:07:09.623684Z",
     "shell.execute_reply": "2021-01-27T23:07:09.624213Z"
    },
    "papermill": {
     "duration": 0.187934,
     "end_time": "2021-01-27T23:07:09.624346",
     "exception": false,
     "start_time": "2021-01-27T23:07:09.436412",
     "status": "completed"
    },
    "tags": []
   },
   "outputs": [
    {
     "data": {
      "text/plain": [
       "entailment       100064\n",
       "contradiction     99903\n",
       "neutral           99652\n",
       "Name: gold_label, dtype: int64"
      ]
     },
     "execution_count": 4,
     "metadata": {},
     "output_type": "execute_result"
    }
   ],
   "source": [
    "# Filter and rename the important columns\n",
    "train_df = snli_train.filter(['sentence1','sentence2','gold_label'], axis=1)\n",
    "test_df = snli_test.filter(['sentence1','sentence2','gold_label'], axis=1)\n",
    "train_df = train_df.rename(columns={\"sentence1\": \"premise\", \"sentence2\": \"hypothesis\"})\n",
    "test_df = test_df.rename(columns={\"sentence1\": \"premise\", \"sentence2\": \"hypothesis\"})\n",
    "\n",
    "# exclude sentences which could not be categorised\n",
    "train_df = train_df[train_df['gold_label'] != \"-\"]\n",
    "test_df = test_df[test_df['gold_label'] != \"-\"]\n",
    "\n",
    "train_df['gold_label'].value_counts()"
   ]
  },
  {
   "cell_type": "code",
   "execution_count": 5,
   "metadata": {
    "execution": {
     "iopub.execute_input": "2021-01-27T23:07:09.659947Z",
     "iopub.status.busy": "2021-01-27T23:07:09.659267Z",
     "iopub.status.idle": "2021-01-27T23:07:20.851455Z",
     "shell.execute_reply": "2021-01-27T23:07:20.850320Z"
    },
    "papermill": {
     "duration": 11.212089,
     "end_time": "2021-01-27T23:07:20.851590",
     "exception": false,
     "start_time": "2021-01-27T23:07:09.639501",
     "status": "completed"
    },
    "tags": []
   },
   "outputs": [],
   "source": [
    "import tensorflow as tf\n",
    "import transformers\n",
    "\n",
    "max_length = 128  # Maximum length of input sentence to the model.\n",
    "batch_size = 256\n",
    "epochs = 40"
   ]
  },
  {
   "cell_type": "code",
   "execution_count": 6,
   "metadata": {
    "execution": {
     "iopub.execute_input": "2021-01-27T23:07:20.891676Z",
     "iopub.status.busy": "2021-01-27T23:07:20.890856Z",
     "iopub.status.idle": "2021-01-27T23:07:20.894706Z",
     "shell.execute_reply": "2021-01-27T23:07:20.894181Z"
    },
    "papermill": {
     "duration": 0.026665,
     "end_time": "2021-01-27T23:07:20.894818",
     "exception": false,
     "start_time": "2021-01-27T23:07:20.868153",
     "status": "completed"
    },
    "tags": []
   },
   "outputs": [
    {
     "data": {
      "text/plain": [
       "True"
      ]
     },
     "execution_count": 6,
     "metadata": {},
     "output_type": "execute_result"
    }
   ],
   "source": [
    "import torch\n",
    "device = torch.device(\"cuda\" if torch.cuda.is_available() else \"cpu\")\n",
    "torch.cuda.is_available()"
   ]
  },
  {
   "cell_type": "code",
   "execution_count": 7,
   "metadata": {
    "execution": {
     "iopub.execute_input": "2021-01-27T23:07:20.956213Z",
     "iopub.status.busy": "2021-01-27T23:07:20.941976Z",
     "iopub.status.idle": "2021-01-27T23:07:21.175296Z",
     "shell.execute_reply": "2021-01-27T23:07:21.174667Z"
    },
    "papermill": {
     "duration": 0.264988,
     "end_time": "2021-01-27T23:07:21.175436",
     "exception": false,
     "start_time": "2021-01-27T23:07:20.910448",
     "status": "completed"
    },
    "tags": []
   },
   "outputs": [],
   "source": [
    "train_df[\"label\"] = train_df[\"gold_label\"].apply(\n",
    "    lambda x: 0 if x == \"contradiction\" else 1 if x == \"entailment\" else 2\n",
    ")\n",
    "y_train = tf.keras.utils.to_categorical(train_df.label, num_classes=3)"
   ]
  },
  {
   "cell_type": "code",
   "execution_count": 8,
   "metadata": {
    "execution": {
     "iopub.execute_input": "2021-01-27T23:07:21.214595Z",
     "iopub.status.busy": "2021-01-27T23:07:21.213758Z",
     "iopub.status.idle": "2021-01-27T23:07:21.755982Z",
     "shell.execute_reply": "2021-01-27T23:07:21.756630Z"
    },
    "papermill": {
     "duration": 0.563114,
     "end_time": "2021-01-27T23:07:21.756812",
     "exception": false,
     "start_time": "2021-01-27T23:07:21.193698",
     "status": "completed"
    },
    "tags": []
   },
   "outputs": [
    {
     "data": {
      "application/vnd.jupyter.widget-view+json": {
       "model_id": "8697dd928e5a46c8a1b183cec2135099",
       "version_major": 2,
       "version_minor": 0
      },
      "text/plain": [
       "HBox(children=(FloatProgress(value=0.0, description='Downloading', max=231508.0, style=ProgressStyle(descripti…"
      ]
     },
     "metadata": {},
     "output_type": "display_data"
    },
    {
     "name": "stdout",
     "output_type": "stream",
     "text": [
      "\n"
     ]
    }
   ],
   "source": [
    "tokenizer = transformers.DistilBertTokenizer.from_pretrained(\"distilbert-base-uncased\", do_lower_case=True)"
   ]
  },
  {
   "cell_type": "code",
   "execution_count": 9,
   "metadata": {
    "execution": {
     "iopub.execute_input": "2021-01-27T23:07:23.034497Z",
     "iopub.status.busy": "2021-01-27T23:07:22.352094Z",
     "iopub.status.idle": "2021-01-27T23:07:23.039226Z",
     "shell.execute_reply": "2021-01-27T23:07:23.038224Z"
    },
    "papermill": {
     "duration": 1.26467,
     "end_time": "2021-01-27T23:07:23.039359",
     "exception": false,
     "start_time": "2021-01-27T23:07:21.774689",
     "status": "completed"
    },
    "tags": []
   },
   "outputs": [],
   "source": [
    "sentence_pairs = train_df[['premise', 'hypothesis']].values.astype('str')"
   ]
  },
  {
   "cell_type": "code",
   "execution_count": 10,
   "metadata": {
    "execution": {
     "iopub.execute_input": "2021-01-27T23:07:23.855962Z",
     "iopub.status.busy": "2021-01-27T23:07:23.855174Z",
     "iopub.status.idle": "2021-01-27T23:12:07.632748Z",
     "shell.execute_reply": "2021-01-27T23:12:07.631766Z"
    },
    "papermill": {
     "duration": 284.576455,
     "end_time": "2021-01-27T23:12:07.632899",
     "exception": false,
     "start_time": "2021-01-27T23:07:23.056444",
     "status": "completed"
    },
    "tags": []
   },
   "outputs": [
    {
     "name": "stderr",
     "output_type": "stream",
     "text": [
      "Truncation was not explicitly activated but `max_length` is provided a specific value, please use `truncation=True` to explicitly truncate examples to max length. Defaulting to 'longest_first' truncation strategy. If you encode pairs of sequences (GLUE-style) with the tokenizer you can select this strategy more precisely by providing a specific strategy to `truncation`.\n",
      "/opt/conda/lib/python3.7/site-packages/transformers/tokenization_utils_base.py:2022: FutureWarning: The `pad_to_max_length` argument is deprecated and will be removed in a future version, use `padding=True` or `padding='longest'` to pad to the longest sequence in the batch, or use `padding='max_length'` to pad to a max length. In this case, you can give a specific length with `max_length` (e.g. `max_length=45`) or leave max_length to None to pad to the maximal input size of the model (e.g. 512 for Bert).\n",
      "  FutureWarning,\n"
     ]
    }
   ],
   "source": [
    "encoded = tokenizer.batch_encode_plus(\n",
    "    sentence_pairs.tolist(),\n",
    "    add_special_tokens=True,\n",
    "    max_length=max_length,\n",
    "    return_attention_mask=True,\n",
    "    return_token_type_ids=True,\n",
    "    pad_to_max_length=True,\n",
    "    return_tensors=\"tf\")"
   ]
  },
  {
   "cell_type": "code",
   "execution_count": 11,
   "metadata": {
    "execution": {
     "iopub.execute_input": "2021-01-27T23:12:07.674045Z",
     "iopub.status.busy": "2021-01-27T23:12:07.672723Z",
     "iopub.status.idle": "2021-01-27T23:12:07.842937Z",
     "shell.execute_reply": "2021-01-27T23:12:07.842400Z"
    },
    "papermill": {
     "duration": 0.192736,
     "end_time": "2021-01-27T23:12:07.843056",
     "exception": false,
     "start_time": "2021-01-27T23:12:07.650320",
     "status": "completed"
    },
    "tags": []
   },
   "outputs": [],
   "source": [
    "input_ids = np.array(encoded[\"input_ids\"], dtype=\"int32\")\n",
    "attention_masks = np.array(encoded[\"attention_mask\"], dtype=\"int32\")\n",
    "token_type_ids = np.array(encoded[\"token_type_ids\"], dtype=\"int32\")"
   ]
  },
  {
   "cell_type": "code",
   "execution_count": 12,
   "metadata": {
    "execution": {
     "iopub.execute_input": "2021-01-27T23:12:07.890227Z",
     "iopub.status.busy": "2021-01-27T23:12:07.889505Z",
     "iopub.status.idle": "2021-01-27T23:12:23.654847Z",
     "shell.execute_reply": "2021-01-27T23:12:23.655744Z"
    },
    "papermill": {
     "duration": 15.795278,
     "end_time": "2021-01-27T23:12:23.655935",
     "exception": false,
     "start_time": "2021-01-27T23:12:07.860657",
     "status": "completed"
    },
    "tags": []
   },
   "outputs": [
    {
     "data": {
      "application/vnd.jupyter.widget-view+json": {
       "model_id": "c0130d035f494419a5f3f60c44b2c870",
       "version_major": 2,
       "version_minor": 0
      },
      "text/plain": [
       "HBox(children=(FloatProgress(value=0.0, description='Downloading', max=442.0, style=ProgressStyle(description_…"
      ]
     },
     "metadata": {},
     "output_type": "display_data"
    },
    {
     "name": "stdout",
     "output_type": "stream",
     "text": [
      "\n"
     ]
    },
    {
     "data": {
      "application/vnd.jupyter.widget-view+json": {
       "model_id": "851a6809ab8241b48bb5e18f86fb32f4",
       "version_major": 2,
       "version_minor": 0
      },
      "text/plain": [
       "HBox(children=(FloatProgress(value=0.0, description='Downloading', max=363423424.0, style=ProgressStyle(descri…"
      ]
     },
     "metadata": {},
     "output_type": "display_data"
    },
    {
     "name": "stdout",
     "output_type": "stream",
     "text": [
      "\n"
     ]
    },
    {
     "name": "stderr",
     "output_type": "stream",
     "text": [
      "Some layers from the model checkpoint at distilbert-base-uncased were not used when initializing TFDistilBertModel: ['vocab_transform', 'vocab_layer_norm', 'activation_13', 'vocab_projector']\n",
      "- This IS expected if you are initializing TFDistilBertModel from the checkpoint of a model trained on another task or with another architecture (e.g. initializing a BertForSequenceClassification model from a BertForPreTraining model).\n",
      "- This IS NOT expected if you are initializing TFDistilBertModel from the checkpoint of a model that you expect to be exactly identical (initializing a BertForSequenceClassification model from a BertForSequenceClassification model).\n",
      "All the layers of TFDistilBertModel were initialized from the model checkpoint at distilbert-base-uncased.\n",
      "If your task is similar to the task the model of the checkpoint was trained on, you can already use TFDistilBertModel for predictions without further training.\n"
     ]
    },
    {
     "name": "stdout",
     "output_type": "stream",
     "text": [
      "Model: \"functional_1\"\n",
      "__________________________________________________________________________________________________\n",
      "Layer (type)                    Output Shape         Param #     Connected to                     \n",
      "==================================================================================================\n",
      "input_ids (InputLayer)          [(None, 128)]        0                                            \n",
      "__________________________________________________________________________________________________\n",
      "attention_masks (InputLayer)    [(None, 128)]        0                                            \n",
      "__________________________________________________________________________________________________\n",
      "tf_distil_bert_model (TFDistilB ((None, 128, 768),)  66362880    input_ids[0][0]                  \n",
      "                                                                 attention_masks[0][0]            \n",
      "__________________________________________________________________________________________________\n",
      "dense (Dense)                   (None, 128, 100)     76900       tf_distil_bert_model[0][0]       \n",
      "__________________________________________________________________________________________________\n",
      "dense_1 (Dense)                 (None, 128, 100)     10100       dense[0][0]                      \n",
      "__________________________________________________________________________________________________\n",
      "dense_2 (Dense)                 (None, 128, 100)     10100       dense_1[0][0]                    \n",
      "__________________________________________________________________________________________________\n",
      "flatten (Flatten)               (None, 12800)        0           dense_2[0][0]                    \n",
      "__________________________________________________________________________________________________\n",
      "dense_3 (Dense)                 (None, 3)            38403       flatten[0][0]                    \n",
      "==================================================================================================\n",
      "Total params: 66,498,383\n",
      "Trainable params: 135,503\n",
      "Non-trainable params: 66,362,880\n",
      "__________________________________________________________________________________________________\n"
     ]
    }
   ],
   "source": [
    "import keras\n",
    "from keras import datasets, layers, models\n",
    "\n",
    "def create_bert_model():\n",
    "    # Encoded token ids from BERT tokenizer.\n",
    "    input_ids = layers.Input(shape=(max_length,), dtype=tf.int32, name=\"input_ids\")\n",
    "    # Attention masks indicates to the model which tokens should be attended to.\n",
    "    attention_masks = layers.Input(shape=(max_length,), dtype=tf.int32, name=\"attention_masks\")\n",
    "    # Token type ids are binary masks identifying different sequences in the model.\n",
    "#     token_type_ids = layers.Input(shape=(max_length,), dtype=tf.int32, name=\"token_type_ids\")\n",
    "    \n",
    "    bert_model = transformers.TFDistilBertModel.from_pretrained('distilbert-base-uncased', return_dict=False)\n",
    "    bert_model.trainable = False\n",
    "\n",
    "    sequence_output = bert_model(input_ids, attention_mask=attention_masks)\n",
    "    \n",
    "    y_1= layers.Dense(100,activation='tanh')(sequence_output[0])\n",
    "    y_2= layers.Dense(100,activation='tanh')(y_1)\n",
    "    y_3= layers.Dense(100,activation='tanh')(y_2)\n",
    "\n",
    "    output=layers.Flatten()(y_3)\n",
    "    output = layers.Dense(3, activation='softmax')(output)\n",
    "\n",
    "    model = keras.models.Model([input_ids, attention_masks], output)\n",
    "    model.summary()\n",
    "    return model\n",
    "model = create_bert_model()"
   ]
  },
  {
   "cell_type": "code",
   "execution_count": 13,
   "metadata": {
    "execution": {
     "iopub.execute_input": "2021-01-27T23:12:23.715589Z",
     "iopub.status.busy": "2021-01-27T23:12:23.712239Z",
     "iopub.status.idle": "2021-01-28T06:33:25.112359Z",
     "shell.execute_reply": "2021-01-28T06:33:25.113080Z"
    },
    "papermill": {
     "duration": 26461.435783,
     "end_time": "2021-01-28T06:33:25.113263",
     "exception": false,
     "start_time": "2021-01-27T23:12:23.677480",
     "status": "completed"
    },
    "tags": []
   },
   "outputs": [
    {
     "name": "stdout",
     "output_type": "stream",
     "text": [
      "Epoch 1/40\n",
      "937/937 [==============================] - 660s 705ms/step - loss: 1.1059 - accuracy: 0.3587 - val_loss: 1.0887 - val_accuracy: 0.3912\n",
      "Epoch 2/40\n",
      "937/937 [==============================] - 660s 704ms/step - loss: 1.0808 - accuracy: 0.4036 - val_loss: 1.0667 - val_accuracy: 0.4309\n",
      "Epoch 3/40\n",
      "937/937 [==============================] - 658s 702ms/step - loss: 1.0621 - accuracy: 0.4338 - val_loss: 1.0493 - val_accuracy: 0.4538\n",
      "Epoch 4/40\n",
      "937/937 [==============================] - 658s 703ms/step - loss: 1.0461 - accuracy: 0.4560 - val_loss: 1.0352 - val_accuracy: 0.4699\n",
      "Epoch 5/40\n",
      "937/937 [==============================] - 658s 702ms/step - loss: 1.0345 - accuracy: 0.4688 - val_loss: 1.0241 - val_accuracy: 0.4818\n",
      "Epoch 6/40\n",
      "937/937 [==============================] - 659s 703ms/step - loss: 1.0249 - accuracy: 0.4797 - val_loss: 1.0146 - val_accuracy: 0.4922\n",
      "Epoch 7/40\n",
      "937/937 [==============================] - 663s 707ms/step - loss: 1.0164 - accuracy: 0.4899 - val_loss: 1.0060 - val_accuracy: 0.5015\n",
      "Epoch 8/40\n",
      "937/937 [==============================] - 658s 703ms/step - loss: 1.0092 - accuracy: 0.4967 - val_loss: 0.9986 - val_accuracy: 0.5086\n",
      "Epoch 9/40\n",
      "937/937 [==============================] - 658s 703ms/step - loss: 1.0022 - accuracy: 0.5035 - val_loss: 0.9914 - val_accuracy: 0.5155\n",
      "Epoch 10/40\n",
      "937/937 [==============================] - 659s 703ms/step - loss: 0.9962 - accuracy: 0.5102 - val_loss: 0.9849 - val_accuracy: 0.5221\n",
      "Epoch 11/40\n",
      "937/937 [==============================] - 659s 703ms/step - loss: 0.9902 - accuracy: 0.5156 - val_loss: 0.9787 - val_accuracy: 0.5285\n",
      "Epoch 12/40\n",
      "937/937 [==============================] - 659s 703ms/step - loss: 0.9842 - accuracy: 0.5218 - val_loss: 0.9729 - val_accuracy: 0.5333\n",
      "Epoch 13/40\n",
      "937/937 [==============================] - 659s 703ms/step - loss: 0.9788 - accuracy: 0.5263 - val_loss: 0.9672 - val_accuracy: 0.5390\n",
      "Epoch 14/40\n",
      "937/937 [==============================] - 659s 703ms/step - loss: 0.9739 - accuracy: 0.5298 - val_loss: 0.9619 - val_accuracy: 0.5436\n",
      "Epoch 15/40\n",
      "937/937 [==============================] - 659s 703ms/step - loss: 0.9684 - accuracy: 0.5350 - val_loss: 0.9567 - val_accuracy: 0.5479\n",
      "Epoch 16/40\n",
      "937/937 [==============================] - 659s 703ms/step - loss: 0.9642 - accuracy: 0.5386 - val_loss: 0.9518 - val_accuracy: 0.5521\n",
      "Epoch 17/40\n",
      "937/937 [==============================] - 658s 703ms/step - loss: 0.9596 - accuracy: 0.5425 - val_loss: 0.9471 - val_accuracy: 0.5551\n",
      "Epoch 18/40\n",
      "937/937 [==============================] - 659s 703ms/step - loss: 0.9552 - accuracy: 0.5465 - val_loss: 0.9426 - val_accuracy: 0.5597\n",
      "Epoch 19/40\n",
      "937/937 [==============================] - 669s 714ms/step - loss: 0.9516 - accuracy: 0.5496 - val_loss: 0.9391 - val_accuracy: 0.5614\n",
      "Epoch 20/40\n",
      "937/937 [==============================] - 666s 710ms/step - loss: 0.9471 - accuracy: 0.5521 - val_loss: 0.9343 - val_accuracy: 0.5649\n",
      "Epoch 21/40\n",
      "937/937 [==============================] - 659s 703ms/step - loss: 0.9437 - accuracy: 0.5556 - val_loss: 0.9303 - val_accuracy: 0.5683\n",
      "Epoch 22/40\n",
      "937/937 [==============================] - 659s 704ms/step - loss: 0.9400 - accuracy: 0.5589 - val_loss: 0.9263 - val_accuracy: 0.5711\n",
      "Epoch 23/40\n",
      "937/937 [==============================] - 662s 707ms/step - loss: 0.9359 - accuracy: 0.5618 - val_loss: 0.9226 - val_accuracy: 0.5732\n",
      "Epoch 24/40\n",
      "937/937 [==============================] - 660s 705ms/step - loss: 0.9326 - accuracy: 0.5639 - val_loss: 0.9190 - val_accuracy: 0.5760\n",
      "Epoch 25/40\n",
      "937/937 [==============================] - 663s 708ms/step - loss: 0.9294 - accuracy: 0.5660 - val_loss: 0.9155 - val_accuracy: 0.5785\n",
      "Epoch 26/40\n",
      "937/937 [==============================] - 665s 710ms/step - loss: 0.9263 - accuracy: 0.5692 - val_loss: 0.9123 - val_accuracy: 0.5804\n",
      "Epoch 27/40\n",
      "937/937 [==============================] - 668s 713ms/step - loss: 0.9233 - accuracy: 0.5715 - val_loss: 0.9090 - val_accuracy: 0.5821\n",
      "Epoch 28/40\n",
      "937/937 [==============================] - 662s 707ms/step - loss: 0.9199 - accuracy: 0.5729 - val_loss: 0.9058 - val_accuracy: 0.5852\n",
      "Epoch 29/40\n",
      "937/937 [==============================] - 658s 702ms/step - loss: 0.9170 - accuracy: 0.5762 - val_loss: 0.9030 - val_accuracy: 0.5870\n",
      "Epoch 30/40\n",
      "937/937 [==============================] - 658s 703ms/step - loss: 0.9147 - accuracy: 0.5769 - val_loss: 0.9001 - val_accuracy: 0.5894\n",
      "Epoch 31/40\n",
      "937/937 [==============================] - 659s 703ms/step - loss: 0.9127 - accuracy: 0.5790 - val_loss: 0.8971 - val_accuracy: 0.5915\n",
      "Epoch 32/40\n",
      "937/937 [==============================] - 665s 709ms/step - loss: 0.9094 - accuracy: 0.5816 - val_loss: 0.8944 - val_accuracy: 0.5932\n",
      "Epoch 33/40\n",
      "937/937 [==============================] - 659s 704ms/step - loss: 0.9064 - accuracy: 0.5834 - val_loss: 0.8917 - val_accuracy: 0.5948\n",
      "Epoch 34/40\n",
      "937/937 [==============================] - 665s 709ms/step - loss: 0.9038 - accuracy: 0.5856 - val_loss: 0.8893 - val_accuracy: 0.5973\n",
      "Epoch 35/40\n",
      "937/937 [==============================] - 663s 707ms/step - loss: 0.9018 - accuracy: 0.5863 - val_loss: 0.8867 - val_accuracy: 0.5985\n",
      "Epoch 36/40\n",
      "937/937 [==============================] - 662s 707ms/step - loss: 0.8992 - accuracy: 0.5879 - val_loss: 0.8843 - val_accuracy: 0.6000\n",
      "Epoch 37/40\n",
      "937/937 [==============================] - 659s 703ms/step - loss: 0.8969 - accuracy: 0.5899 - val_loss: 0.8819 - val_accuracy: 0.6018\n",
      "Epoch 38/40\n",
      "937/937 [==============================] - 659s 703ms/step - loss: 0.8950 - accuracy: 0.5913 - val_loss: 0.8795 - val_accuracy: 0.6036\n",
      "Epoch 39/40\n",
      "937/937 [==============================] - 659s 703ms/step - loss: 0.8929 - accuracy: 0.5935 - val_loss: 0.8774 - val_accuracy: 0.6044\n",
      "Epoch 40/40\n",
      "937/937 [==============================] - 659s 703ms/step - loss: 0.8918 - accuracy: 0.5936 - val_loss: 0.8752 - val_accuracy: 0.6064\n"
     ]
    }
   ],
   "source": [
    "model.compile(optimizer='Adadelta',loss='categorical_crossentropy',metrics = ['accuracy'])\n",
    "history = model.fit([input_ids, attention_masks],\n",
    "                    y_train,\n",
    "                    epochs=epochs,\n",
    "                    batch_size=batch_size,\n",
    "                    validation_split=0.2,\n",
    "                    verbose=1,\n",
    "                    use_multiprocessing=True,\n",
    "                    workers=-1)"
   ]
  },
  {
   "cell_type": "code",
   "execution_count": 14,
   "metadata": {
    "execution": {
     "iopub.execute_input": "2021-01-28T06:33:51.012544Z",
     "iopub.status.busy": "2021-01-28T06:33:51.011606Z",
     "iopub.status.idle": "2021-01-28T06:33:51.412720Z",
     "shell.execute_reply": "2021-01-28T06:33:51.411286Z"
    },
    "papermill": {
     "duration": 13.57721,
     "end_time": "2021-01-28T06:33:51.412860",
     "exception": false,
     "start_time": "2021-01-28T06:33:37.835650",
     "status": "completed"
    },
    "tags": []
   },
   "outputs": [],
   "source": [
    "#!pip install -q pyyaml h5py\n",
    "import h5py\n",
    "model.save_weights('bert_weights_300000_40epochs.hdf5')\n"
   ]
  },
  {
   "cell_type": "code",
   "execution_count": 15,
   "metadata": {
    "execution": {
     "iopub.execute_input": "2021-01-28T06:34:17.970184Z",
     "iopub.status.busy": "2021-01-28T06:34:17.968682Z",
     "iopub.status.idle": "2021-01-28T06:34:49.105529Z",
     "shell.execute_reply": "2021-01-28T06:34:49.104473Z"
    },
    "papermill": {
     "duration": 44.634086,
     "end_time": "2021-01-28T06:34:49.105668",
     "exception": false,
     "start_time": "2021-01-28T06:34:04.471582",
     "status": "completed"
    },
    "tags": []
   },
   "outputs": [],
   "source": [
    "sentence_pairs_test = test_df[['premise', 'hypothesis']].values.astype('str')\n",
    "\n",
    "\n",
    "encoded_test = tokenizer.batch_encode_plus(\n",
    "    sentence_pairs_test.tolist(),\n",
    "    add_special_tokens=True,\n",
    "    max_length=max_length,\n",
    "    return_attention_mask=True,\n",
    "    return_token_type_ids=True,\n",
    "    pad_to_max_length=True,\n",
    "    return_tensors=\"tf\")\n",
    "\n",
    "input_ids = np.array(encoded_test[\"input_ids\"], dtype=\"int32\")\n",
    "attention_masks = np.array(encoded_test[\"attention_mask\"], dtype=\"int32\")\n",
    "token_type_ids = np.array(encoded_test[\"token_type_ids\"], dtype=\"int32\")\n",
    "\n",
    "test_pred = model.predict([input_ids, attention_masks], batch_size=batch_size)\n",
    "\n",
    "test_results_bert = pd.DataFrame(test_pred)\n",
    "test_results_bert.to_csv(\"Bert_test_results_300000_40epochs.csv\")"
   ]
  },
  {
   "cell_type": "code",
   "execution_count": 16,
   "metadata": {
    "execution": {
     "iopub.execute_input": "2021-01-28T06:35:15.061582Z",
     "iopub.status.busy": "2021-01-28T06:35:15.059217Z",
     "iopub.status.idle": "2021-01-28T06:35:15.065041Z",
     "shell.execute_reply": "2021-01-28T06:35:15.066213Z"
    },
    "papermill": {
     "duration": 13.145046,
     "end_time": "2021-01-28T06:35:15.066388",
     "exception": false,
     "start_time": "2021-01-28T06:35:01.921342",
     "status": "completed"
    },
    "tags": []
   },
   "outputs": [],
   "source": [
    "pd.DataFrame.from_dict(history.history).to_csv('bert_history_300000_40epochs.csv',index=False)"
   ]
  },
  {
   "cell_type": "code",
   "execution_count": 17,
   "metadata": {
    "execution": {
     "iopub.execute_input": "2021-01-28T06:35:41.880991Z",
     "iopub.status.busy": "2021-01-28T06:35:41.880277Z",
     "iopub.status.idle": "2021-01-28T06:35:42.178284Z",
     "shell.execute_reply": "2021-01-28T06:35:42.178883Z"
    },
    "papermill": {
     "duration": 13.575591,
     "end_time": "2021-01-28T06:35:42.179066",
     "exception": false,
     "start_time": "2021-01-28T06:35:28.603475",
     "status": "completed"
    },
    "tags": []
   },
   "outputs": [
    {
     "data": {
      "image/png": "[encoded data removed]",
      "text/plain": [
       "<Figure size 432x288 with 1 Axes>"
      ]
     },
     "metadata": {
      "needs_background": "light"
     },
     "output_type": "display_data"
    }
   ],
   "source": [
    "import matplotlib.pyplot as plt\n",
    "plt.plot(history.history['accuracy'])\n",
    "plt.plot(history.history['val_accuracy'])\n",
    "plt.title('model accuracy')\n",
    "plt.ylabel('accuracy')\n",
    "plt.xlabel('epoch')\n",
    "plt.legend(['train', 'val'], loc='upper left')\n",
    "# plt.show()\n",
    "plt.savefig('bert_accuracy_300000_40epochs.png')"
   ]
  },
  {
   "cell_type": "code",
   "execution_count": null,
   "metadata": {
    "papermill": {
     "duration": 13.473901,
     "end_time": "2021-01-28T06:36:36.423128",
     "exception": false,
     "start_time": "2021-01-28T06:36:22.949227",
     "status": "completed"
    },
    "tags": []
   },
   "outputs": [],
   "source": []
  }
 ],
 "metadata": {
  "kernelspec": {
   "display_name": "Python 3",
   "language": "python",
   "name": "python3"
  },
  "language_info": {
   "codemirror_mode": {
    "name": "ipython",
    "version": 3
   },
   "file_extension": ".py",
   "mimetype": "text/x-python",
   "name": "python",
   "nbconvert_exporter": "python",
   "pygments_lexer": "ipython3",
   "version": "3.7.9"
  },
  "papermill": {
   "duration": 26995.119394,
   "end_time": "2021-01-28T06:36:52.178724",
   "environment_variables": {},
   "exception": null,
   "input_path": "__notebook__.ipynb",
   "output_path": "__notebook__.ipynb",
   "parameters": {},
   "start_time": "2021-01-27T23:06:57.059330",
   "version": "2.1.0"
  },
  "widgets": {
   "application/vnd.jupyter.widget-state+json": {
    "state": {
     "19208161d5c646dc81ff74ca99e3837b": {
      "model_module": "@jupyter-widgets/controls",
      "model_module_version": "1.5.0",
      "model_name": "DescriptionStyleModel",
      "state": {
       "_model_module": "@jupyter-widgets/controls",
       "_model_module_version": "1.5.0",
       "_model_name": "DescriptionStyleModel",
       "_view_count": null,
       "_view_module": "@jupyter-widgets/base",
       "_view_module_version": "1.2.0",
       "_view_name": "StyleView",
       "description_width": ""
      }
     },
     "369c9ff2e0a8470cb6156a3910c1801a": {
      "model_module": "@jupyter-widgets/base",
      "model_module_version": "1.2.0",
      "model_name": "LayoutModel",
      "state": {
       "_model_module": "@jupyter-widgets/base",
       "_model_module_version": "1.2.0",
       "_model_name": "LayoutModel",
       "_view_count": null,
       "_view_module": "@jupyter-widgets/base",
       "_view_module_version": "1.2.0",
       "_view_name": "LayoutView",
       "align_content": null,
       "align_items": null,
       "align_self": null,
       "border": null,
       "bottom": null,
       "display": null,
       "flex": null,
       "flex_flow": null,
       "grid_area": null,
       "grid_auto_columns": null,
       "grid_auto_flow": null,
       "grid_auto_rows": null,
       "grid_column": null,
       "grid_gap": null,
       "grid_row": null,
       "grid_template_areas": null,
       "grid_template_columns": null,
       "grid_template_rows": null,
       "height": null,
       "justify_content": null,
       "justify_items": null,
       "left": null,
       "margin": null,
       "max_height": null,
       "max_width": null,
       "min_height": null,
       "min_width": null,
       "object_fit": null,
       "object_position": null,
       "order": null,
       "overflow": null,
       "overflow_x": null,
       "overflow_y": null,
       "padding": null,
       "right": null,
       "top": null,
       "visibility": null,
       "width": null
      }
     },
     "39ae0a94b17d4f70b2f5a3612c35a489": {
      "model_module": "@jupyter-widgets/controls",
      "model_module_version": "1.5.0",
      "model_name": "DescriptionStyleModel",
      "state": {
       "_model_module": "@jupyter-widgets/controls",
       "_model_module_version": "1.5.0",
       "_model_name": "DescriptionStyleModel",
       "_view_count": null,
       "_view_module": "@jupyter-widgets/base",
       "_view_module_version": "1.2.0",
       "_view_name": "StyleView",
       "description_width": ""
      }
     },
     "4850c062d3cf4f42bb44d6163e9ec939": {
      "model_module": "@jupyter-widgets/controls",
      "model_module_version": "1.5.0",
      "model_name": "ProgressStyleModel",
      "state": {
       "_model_module": "@jupyter-widgets/controls",
       "_model_module_version": "1.5.0",
       "_model_name": "ProgressStyleModel",
       "_view_count": null,
       "_view_module": "@jupyter-widgets/base",
       "_view_module_version": "1.2.0",
       "_view_name": "StyleView",
       "bar_color": null,
       "description_width": "initial"
      }
     },
     "4ae9fdaf72fe48229da8b6ac02067105": {
      "model_module": "@jupyter-widgets/base",
      "model_module_version": "1.2.0",
      "model_name": "LayoutModel",
      "state": {
       "_model_module": "@jupyter-widgets/base",
       "_model_module_version": "1.2.0",
       "_model_name": "LayoutModel",
       "_view_count": null,
       "_view_module": "@jupyter-widgets/base",
       "_view_module_version": "1.2.0",
       "_view_name": "LayoutView",
       "align_content": null,
       "align_items": null,
       "align_self": null,
       "border": null,
       "bottom": null,
       "display": null,
       "flex": null,
       "flex_flow": null,
       "grid_area": null,
       "grid_auto_columns": null,
       "grid_auto_flow": null,
       "grid_auto_rows": null,
       "grid_column": null,
       "grid_gap": null,
       "grid_row": null,
       "grid_template_areas": null,
       "grid_template_columns": null,
       "grid_template_rows": null,
       "height": null,
       "justify_content": null,
       "justify_items": null,
       "left": null,
       "margin": null,
       "max_height": null,
       "max_width": null,
       "min_height": null,
       "min_width": null,
       "object_fit": null,
       "object_position": null,
       "order": null,
       "overflow": null,
       "overflow_x": null,
       "overflow_y": null,
       "padding": null,
       "right": null,
       "top": null,
       "visibility": null,
       "width": null
      }
     },
     "51aa3455e0ad4e16911f374c2182ff46": {
      "model_module": "@jupyter-widgets/controls",
      "model_module_version": "1.5.0",
      "model_name": "FloatProgressModel",
      "state": {
       "_dom_classes": [],
       "_model_module": "@jupyter-widgets/controls",
       "_model_module_version": "1.5.0",
       "_model_name": "FloatProgressModel",
       "_view_count": null,
       "_view_module": "@jupyter-widgets/controls",
       "_view_module_version": "1.5.0",
       "_view_name": "ProgressView",
       "bar_style": "success",
       "description": "Downloading: 100%",
       "description_tooltip": null,
       "layout": "IPY_MODEL_e7c6251f4a22431aaf020ebb26ccf9c7",
       "max": 231508,
       "min": 0,
       "orientation": "horizontal",
       "style": "IPY_MODEL_5fb6f585b6474265bdffc2278db22b96",
       "value": 231508
      }
     },
     "5fb6f585b6474265bdffc2278db22b96": {
      "model_module": "@jupyter-widgets/controls",
      "model_module_version": "1.5.0",
      "model_name": "ProgressStyleModel",
      "state": {
       "_model_module": "@jupyter-widgets/controls",
       "_model_module_version": "1.5.0",
       "_model_name": "ProgressStyleModel",
       "_view_count": null,
       "_view_module": "@jupyter-widgets/base",
       "_view_module_version": "1.2.0",
       "_view_name": "StyleView",
       "bar_color": null,
       "description_width": "initial"
      }
     },
     "695550d3012c464fbdccfa1d60e0b7ab": {
      "model_module": "@jupyter-widgets/controls",
      "model_module_version": "1.5.0",
      "model_name": "ProgressStyleModel",
      "state": {
       "_model_module": "@jupyter-widgets/controls",
       "_model_module_version": "1.5.0",
       "_model_name": "ProgressStyleModel",
       "_view_count": null,
       "_view_module": "@jupyter-widgets/base",
       "_view_module_version": "1.2.0",
       "_view_name": "StyleView",
       "bar_color": null,
       "description_width": "initial"
      }
     },
     "707e09b536364dd2a205cdebf1eb9ec2": {
      "model_module": "@jupyter-widgets/controls",
      "model_module_version": "1.5.0",
      "model_name": "FloatProgressModel",
      "state": {
       "_dom_classes": [],
       "_model_module": "@jupyter-widgets/controls",
       "_model_module_version": "1.5.0",
       "_model_name": "FloatProgressModel",
       "_view_count": null,
       "_view_module": "@jupyter-widgets/controls",
       "_view_module_version": "1.5.0",
       "_view_name": "ProgressView",
       "bar_style": "success",
       "description": "Downloading: 100%",
       "description_tooltip": null,
       "layout": "IPY_MODEL_bcb0eaf2fa4a4ab4b68beeffc9ff4225",
       "max": 442,
       "min": 0,
       "orientation": "horizontal",
       "style": "IPY_MODEL_4850c062d3cf4f42bb44d6163e9ec939",
       "value": 442
      }
     },
     "77673f43325c49a7a39677b5979cafc0": {
      "model_module": "@jupyter-widgets/controls",
      "model_module_version": "1.5.0",
      "model_name": "HTMLModel",
      "state": {
       "_dom_classes": [],
       "_model_module": "@jupyter-widgets/controls",
       "_model_module_version": "1.5.0",
       "_model_name": "HTMLModel",
       "_view_count": null,
       "_view_module": "@jupyter-widgets/controls",
       "_view_module_version": "1.5.0",
       "_view_name": "HTMLView",
       "description": "",
       "description_tooltip": null,
       "layout": "IPY_MODEL_864cd133e62c436dab66f71794bd3426",
       "placeholder": "​",
       "style": "IPY_MODEL_c5610523d33f4aad850cd1bc792de4fb",
       "value": " 363M/363M [00:10&lt;00:00, 35.1MB/s]"
      }
     },
     "851a6809ab8241b48bb5e18f86fb32f4": {
      "model_module": "@jupyter-widgets/controls",
      "model_module_version": "1.5.0",
      "model_name": "HBoxModel",
      "state": {
       "_dom_classes": [],
       "_model_module": "@jupyter-widgets/controls",
       "_model_module_version": "1.5.0",
       "_model_name": "HBoxModel",
       "_view_count": null,
       "_view_module": "@jupyter-widgets/controls",
       "_view_module_version": "1.5.0",
       "_view_name": "HBoxView",
       "box_style": "",
       "children": [
        "IPY_MODEL_c2f70c54288a47738f0d7fb7623ac371",
        "IPY_MODEL_77673f43325c49a7a39677b5979cafc0"
       ],
       "layout": "IPY_MODEL_4ae9fdaf72fe48229da8b6ac02067105"
      }
     },
     "864cd133e62c436dab66f71794bd3426": {
      "model_module": "@jupyter-widgets/base",
      "model_module_version": "1.2.0",
      "model_name": "LayoutModel",
      "state": {
       "_model_module": "@jupyter-widgets/base",
       "_model_module_version": "1.2.0",
       "_model_name": "LayoutModel",
       "_view_count": null,
       "_view_module": "@jupyter-widgets/base",
       "_view_module_version": "1.2.0",
       "_view_name": "LayoutView",
       "align_content": null,
       "align_items": null,
       "align_self": null,
       "border": null,
       "bottom": null,
       "display": null,
       "flex": null,
       "flex_flow": null,
       "grid_area": null,
       "grid_auto_columns": null,
       "grid_auto_flow": null,
       "grid_auto_rows": null,
       "grid_column": null,
       "grid_gap": null,
       "grid_row": null,
       "grid_template_areas": null,
       "grid_template_columns": null,
       "grid_template_rows": null,
       "height": null,
       "justify_content": null,
       "justify_items": null,
       "left": null,
       "margin": null,
       "max_height": null,
       "max_width": null,
       "min_height": null,
       "min_width": null,
       "object_fit": null,
       "object_position": null,
       "order": null,
       "overflow": null,
       "overflow_x": null,
       "overflow_y": null,
       "padding": null,
       "right": null,
       "top": null,
       "visibility": null,
       "width": null
      }
     },
     "8697dd928e5a46c8a1b183cec2135099": {
      "model_module": "@jupyter-widgets/controls",
      "model_module_version": "1.5.0",
      "model_name": "HBoxModel",
      "state": {
       "_dom_classes": [],
       "_model_module": "@jupyter-widgets/controls",
       "_model_module_version": "1.5.0",
       "_model_name": "HBoxModel",
       "_view_count": null,
       "_view_module": "@jupyter-widgets/controls",
       "_view_module_version": "1.5.0",
       "_view_name": "HBoxView",
       "box_style": "",
       "children": [
        "IPY_MODEL_51aa3455e0ad4e16911f374c2182ff46",
        "IPY_MODEL_ccee7d8c30c740f0981765ffd673ac68"
       ],
       "layout": "IPY_MODEL_beea61486ccf420aae463d8bb4293c06"
      }
     },
     "992b30de88114363870c82f35afddd05": {
      "model_module": "@jupyter-widgets/base",
      "model_module_version": "1.2.0",
      "model_name": "LayoutModel",
      "state": {
       "_model_module": "@jupyter-widgets/base",
       "_model_module_version": "1.2.0",
       "_model_name": "LayoutModel",
       "_view_count": null,
       "_view_module": "@jupyter-widgets/base",
       "_view_module_version": "1.2.0",
       "_view_name": "LayoutView",
       "align_content": null,
       "align_items": null,
       "align_self": null,
       "border": null,
       "bottom": null,
       "display": null,
       "flex": null,
       "flex_flow": null,
       "grid_area": null,
       "grid_auto_columns": null,
       "grid_auto_flow": null,
       "grid_auto_rows": null,
       "grid_column": null,
       "grid_gap": null,
       "grid_row": null,
       "grid_template_areas": null,
       "grid_template_columns": null,
       "grid_template_rows": null,
       "height": null,
       "justify_content": null,
       "justify_items": null,
       "left": null,
       "margin": null,
       "max_height": null,
       "max_width": null,
       "min_height": null,
       "min_width": null,
       "object_fit": null,
       "object_position": null,
       "order": null,
       "overflow": null,
       "overflow_x": null,
       "overflow_y": null,
       "padding": null,
       "right": null,
       "top": null,
       "visibility": null,
       "width": null
      }
     },
     "a7cb3f38c7564f998e5f1f1f7773148f": {
      "model_module": "@jupyter-widgets/controls",
      "model_module_version": "1.5.0",
      "model_name": "HTMLModel",
      "state": {
       "_dom_classes": [],
       "_model_module": "@jupyter-widgets/controls",
       "_model_module_version": "1.5.0",
       "_model_name": "HTMLModel",
       "_view_count": null,
       "_view_module": "@jupyter-widgets/controls",
       "_view_module_version": "1.5.0",
       "_view_name": "HTMLView",
       "description": "",
       "description_tooltip": null,
       "layout": "IPY_MODEL_992b30de88114363870c82f35afddd05",
       "placeholder": "​",
       "style": "IPY_MODEL_39ae0a94b17d4f70b2f5a3612c35a489",
       "value": " 442/442 [00:11&lt;00:00, 39.6B/s]"
      }
     },
     "bcb0eaf2fa4a4ab4b68beeffc9ff4225": {
      "model_module": "@jupyter-widgets/base",
      "model_module_version": "1.2.0",
      "model_name": "LayoutModel",
      "state": {
       "_model_module": "@jupyter-widgets/base",
       "_model_module_version": "1.2.0",
       "_model_name": "LayoutModel",
       "_view_count": null,
       "_view_module": "@jupyter-widgets/base",
       "_view_module_version": "1.2.0",
       "_view_name": "LayoutView",
       "align_content": null,
       "align_items": null,
       "align_self": null,
       "border": null,
       "bottom": null,
       "display": null,
       "flex": null,
       "flex_flow": null,
       "grid_area": null,
       "grid_auto_columns": null,
       "grid_auto_flow": null,
       "grid_auto_rows": null,
       "grid_column": null,
       "grid_gap": null,
       "grid_row": null,
       "grid_template_areas": null,
       "grid_template_columns": null,
       "grid_template_rows": null,
       "height": null,
       "justify_content": null,
       "justify_items": null,
       "left": null,
       "margin": null,
       "max_height": null,
       "max_width": null,
       "min_height": null,
       "min_width": null,
       "object_fit": null,
       "object_position": null,
       "order": null,
       "overflow": null,
       "overflow_x": null,
       "overflow_y": null,
       "padding": null,
       "right": null,
       "top": null,
       "visibility": null,
       "width": null
      }
     },
     "beea61486ccf420aae463d8bb4293c06": {
      "model_module": "@jupyter-widgets/base",
      "model_module_version": "1.2.0",
      "model_name": "LayoutModel",
      "state": {
       "_model_module": "@jupyter-widgets/base",
       "_model_module_version": "1.2.0",
       "_model_name": "LayoutModel",
       "_view_count": null,
       "_view_module": "@jupyter-widgets/base",
       "_view_module_version": "1.2.0",
       "_view_name": "LayoutView",
       "align_content": null,
       "align_items": null,
       "align_self": null,
       "border": null,
       "bottom": null,
       "display": null,
       "flex": null,
       "flex_flow": null,
       "grid_area": null,
       "grid_auto_columns": null,
       "grid_auto_flow": null,
       "grid_auto_rows": null,
       "grid_column": null,
       "grid_gap": null,
       "grid_row": null,
       "grid_template_areas": null,
       "grid_template_columns": null,
       "grid_template_rows": null,
       "height": null,
       "justify_content": null,
       "justify_items": null,
       "left": null,
       "margin": null,
       "max_height": null,
       "max_width": null,
       "min_height": null,
       "min_width": null,
       "object_fit": null,
       "object_position": null,
       "order": null,
       "overflow": null,
       "overflow_x": null,
       "overflow_y": null,
       "padding": null,
       "right": null,
       "top": null,
       "visibility": null,
       "width": null
      }
     },
     "c0130d035f494419a5f3f60c44b2c870": {
      "model_module": "@jupyter-widgets/controls",
      "model_module_version": "1.5.0",
      "model_name": "HBoxModel",
      "state": {
       "_dom_classes": [],
       "_model_module": "@jupyter-widgets/controls",
       "_model_module_version": "1.5.0",
       "_model_name": "HBoxModel",
       "_view_count": null,
       "_view_module": "@jupyter-widgets/controls",
       "_view_module_version": "1.5.0",
       "_view_name": "HBoxView",
       "box_style": "",
       "children": [
        "IPY_MODEL_707e09b536364dd2a205cdebf1eb9ec2",
        "IPY_MODEL_a7cb3f38c7564f998e5f1f1f7773148f"
       ],
       "layout": "IPY_MODEL_369c9ff2e0a8470cb6156a3910c1801a"
      }
     },
     "c2f70c54288a47738f0d7fb7623ac371": {
      "model_module": "@jupyter-widgets/controls",
      "model_module_version": "1.5.0",
      "model_name": "FloatProgressModel",
      "state": {
       "_dom_classes": [],
       "_model_module": "@jupyter-widgets/controls",
       "_model_module_version": "1.5.0",
       "_model_name": "FloatProgressModel",
       "_view_count": null,
       "_view_module": "@jupyter-widgets/controls",
       "_view_module_version": "1.5.0",
       "_view_name": "ProgressView",
       "bar_style": "success",
       "description": "Downloading: 100%",
       "description_tooltip": null,
       "layout": "IPY_MODEL_ccf2f7f42dc1432ea7a79ce6b0ad8646",
       "max": 363423424,
       "min": 0,
       "orientation": "horizontal",
       "style": "IPY_MODEL_695550d3012c464fbdccfa1d60e0b7ab",
       "value": 363423424
      }
     },
     "c5610523d33f4aad850cd1bc792de4fb": {
      "model_module": "@jupyter-widgets/controls",
      "model_module_version": "1.5.0",
      "model_name": "DescriptionStyleModel",
      "state": {
       "_model_module": "@jupyter-widgets/controls",
       "_model_module_version": "1.5.0",
       "_model_name": "DescriptionStyleModel",
       "_view_count": null,
       "_view_module": "@jupyter-widgets/base",
       "_view_module_version": "1.2.0",
       "_view_name": "StyleView",
       "description_width": ""
      }
     },
     "c7187d482d4b4558977feda4b879494f": {
      "model_module": "@jupyter-widgets/base",
      "model_module_version": "1.2.0",
      "model_name": "LayoutModel",
      "state": {
       "_model_module": "@jupyter-widgets/base",
       "_model_module_version": "1.2.0",
       "_model_name": "LayoutModel",
       "_view_count": null,
       "_view_module": "@jupyter-widgets/base",
       "_view_module_version": "1.2.0",
       "_view_name": "LayoutView",
       "align_content": null,
       "align_items": null,
       "align_self": null,
       "border": null,
       "bottom": null,
       "display": null,
       "flex": null,
       "flex_flow": null,
       "grid_area": null,
       "grid_auto_columns": null,
       "grid_auto_flow": null,
       "grid_auto_rows": null,
       "grid_column": null,
       "grid_gap": null,
       "grid_row": null,
       "grid_template_areas": null,
       "grid_template_columns": null,
       "grid_template_rows": null,
       "height": null,
       "justify_content": null,
       "justify_items": null,
       "left": null,
       "margin": null,
       "max_height": null,
       "max_width": null,
       "min_height": null,
       "min_width": null,
       "object_fit": null,
       "object_position": null,
       "order": null,
       "overflow": null,
       "overflow_x": null,
       "overflow_y": null,
       "padding": null,
       "right": null,
       "top": null,
       "visibility": null,
       "width": null
      }
     },
     "ccee7d8c30c740f0981765ffd673ac68": {
      "model_module": "@jupyter-widgets/controls",
      "model_module_version": "1.5.0",
      "model_name": "HTMLModel",
      "state": {
       "_dom_classes": [],
       "_model_module": "@jupyter-widgets/controls",
       "_model_module_version": "1.5.0",
       "_model_name": "HTMLModel",
       "_view_count": null,
       "_view_module": "@jupyter-widgets/controls",
       "_view_module_version": "1.5.0",
       "_view_name": "HTMLView",
       "description": "",
       "description_tooltip": null,
       "layout": "IPY_MODEL_c7187d482d4b4558977feda4b879494f",
       "placeholder": "​",
       "style": "IPY_MODEL_19208161d5c646dc81ff74ca99e3837b",
       "value": " 232k/232k [00:00&lt;00:00, 1.60MB/s]"
      }
     },
     "ccf2f7f42dc1432ea7a79ce6b0ad8646": {
      "model_module": "@jupyter-widgets/base",
      "model_module_version": "1.2.0",
      "model_name": "LayoutModel",
      "state": {
       "_model_module": "@jupyter-widgets/base",
       "_model_module_version": "1.2.0",
       "_model_name": "LayoutModel",
       "_view_count": null,
       "_view_module": "@jupyter-widgets/base",
       "_view_module_version": "1.2.0",
       "_view_name": "LayoutView",
       "align_content": null,
       "align_items": null,
       "align_self": null,
       "border": null,
       "bottom": null,
       "display": null,
       "flex": null,
       "flex_flow": null,
       "grid_area": null,
       "grid_auto_columns": null,
       "grid_auto_flow": null,
       "grid_auto_rows": null,
       "grid_column": null,
       "grid_gap": null,
       "grid_row": null,
       "grid_template_areas": null,
       "grid_template_columns": null,
       "grid_template_rows": null,
       "height": null,
       "justify_content": null,
       "justify_items": null,
       "left": null,
       "margin": null,
       "max_height": null,
       "max_width": null,
       "min_height": null,
       "min_width": null,
       "object_fit": null,
       "object_position": null,
       "order": null,
       "overflow": null,
       "overflow_x": null,
       "overflow_y": null,
       "padding": null,
       "right": null,
       "top": null,
       "visibility": null,
       "width": null
      }
     },
     "e7c6251f4a22431aaf020ebb26ccf9c7": {
      "model_module": "@jupyter-widgets/base",
      "model_module_version": "1.2.0",
      "model_name": "LayoutModel",
      "state": {
       "_model_module": "@jupyter-widgets/base",
       "_model_module_version": "1.2.0",
       "_model_name": "LayoutModel",
       "_view_count": null,
       "_view_module": "@jupyter-widgets/base",
       "_view_module_version": "1.2.0",
       "_view_name": "LayoutView",
       "align_content": null,
       "align_items": null,
       "align_self": null,
       "border": null,
       "bottom": null,
       "display": null,
       "flex": null,
       "flex_flow": null,
       "grid_area": null,
       "grid_auto_columns": null,
       "grid_auto_flow": null,
       "grid_auto_rows": null,
       "grid_column": null,
       "grid_gap": null,
       "grid_row": null,
       "grid_template_areas": null,
       "grid_template_columns": null,
       "grid_template_rows": null,
       "height": null,
       "justify_content": null,
       "justify_items": null,
       "left": null,
       "margin": null,
       "max_height": null,
       "max_width": null,
       "min_height": null,
       "min_width": null,
       "object_fit": null,
       "object_position": null,
       "order": null,
       "overflow": null,
       "overflow_x": null,
       "overflow_y": null,
       "padding": null,
       "right": null,
       "top": null,
       "visibility": null,
       "width": null
      }
     }
    },
    "version_major": 2,
    "version_minor": 0
   }
  }
 },
 "nbformat": 4,
 "nbformat_minor": 4
}
